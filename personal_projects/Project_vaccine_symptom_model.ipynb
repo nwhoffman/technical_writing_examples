{
 "cells": [
  {
   "cell_type": "markdown",
   "id": "6fa3baf8",
   "metadata": {},
   "source": [
    "## Covid vaccine symptoms\n",
    "\n",
    "We've all obviously heard a lot about covid over the past year. And more recently, we've been hearing a lot about the various covid vaccines. It's likely you're even among the vaccinated population! While vaccines are pretty great, they often result in side effects, some of which can be severe. But, by tracking these more serious events, we can analyse the data to look for patterns and use the resulting information to guide research for how to make vaccines safer.\n",
    "\n",
    "The US government Vaccine Adverse Event Reporting System (VAERS) is a program to report when possible adverse events occur after receiving a vaccine. With the first covid vaccines becoming available in the US (outside of a trial) in December 2020, the first reports of associated events were recorded. \n",
    "\n",
    "\n",
    "### Data source\n",
    "\n",
    "The data was sourced from the Vaccine Adverse Event Reporting System ([VAERS](https://vaers.hhs.gov)). The data is available to download from the website in CSV format. For this analysis, all the data has been saved locally. A cleaned version of the dataset is available in the project repository."
   ]
  },
  {
   "cell_type": "code",
   "execution_count": 1,
   "id": "a1efc77f",
   "metadata": {},
   "outputs": [],
   "source": [
    "# General imports\n",
    "import pandas as pd\n",
    "import numpy as np\n",
    "import matplotlib.pyplot as plt"
   ]
  },
  {
   "cell_type": "markdown",
   "id": "ea09047e",
   "metadata": {},
   "source": [
    "## Data preparation\n",
    "\n",
    "We'll do the preparation in two steps: first load and concatenate the DataFrrames. Then do a first pass at filtering to select the vaccines of interest and the columns to use in the analysis.\n",
    "\n",
    "### Load the data\n",
    "\n",
    "The downloaded data consists of three `csv` files for each year, with the `VAERS_ID` column as the one present in all three files. After concatenating the data frames for the two years together, we'll merge on the ID column."
   ]
  },
  {
   "cell_type": "code",
   "execution_count": 2,
   "id": "15976f70",
   "metadata": {},
   "outputs": [],
   "source": [
    "# Read in the data\n",
    "\n",
    "# load 2020 files\n",
    "data_2020 = pd.read_csv('2020VAERSData/2020VAERSDATA.csv')\n",
    "symptoms_2020 = pd.read_csv('2020VAERSData/2020VAERSSYMPTOMS.csv')\n",
    "vax_2020 = pd.read_csv('2020VAERSData/2020VAERSVAX.csv')\n",
    "\n",
    "# load 2021 files\n",
    "data_2021 = pd.read_csv('2021VAERSData/2021VAERSDATA.csv', low_memory=False) # mixed dtypes\n",
    "symptoms_2021 = pd.read_csv('2021VAERSData/2021VAERSSYMPTOMS.csv')\n",
    "vax_2021 = pd.read_csv('2021VAERSData/2021VAERSVAX.csv')\n",
    "\n",
    "# Concatenate DataFrames\n",
    "vax = pd.concat([vax_2020, vax_2021])\n",
    "data = pd.concat([data_2020, data_2021])\n",
    "symptoms = pd.concat([symptoms_2020, symptoms_2021])"
   ]
  },
  {
   "cell_type": "code",
   "execution_count": 3,
   "id": "bb87b5ac",
   "metadata": {},
   "outputs": [
    {
     "data": {
      "text/html": [
       "<div>\n",
       "<style scoped>\n",
       "    .dataframe tbody tr th:only-of-type {\n",
       "        vertical-align: middle;\n",
       "    }\n",
       "\n",
       "    .dataframe tbody tr th {\n",
       "        vertical-align: top;\n",
       "    }\n",
       "\n",
       "    .dataframe thead th {\n",
       "        text-align: right;\n",
       "    }\n",
       "</style>\n",
       "<table border=\"1\" class=\"dataframe\">\n",
       "  <thead>\n",
       "    <tr style=\"text-align: right;\">\n",
       "      <th></th>\n",
       "      <th>VAERS_ID</th>\n",
       "      <th>VAX_TYPE</th>\n",
       "      <th>VAX_MANU</th>\n",
       "      <th>VAX_LOT</th>\n",
       "      <th>VAX_DOSE_SERIES</th>\n",
       "      <th>VAX_ROUTE</th>\n",
       "      <th>VAX_SITE</th>\n",
       "      <th>VAX_NAME</th>\n",
       "      <th>RECVDATE</th>\n",
       "      <th>STATE</th>\n",
       "      <th>...</th>\n",
       "      <th>SYMPTOM1</th>\n",
       "      <th>SYMPTOMVERSION1</th>\n",
       "      <th>SYMPTOM2</th>\n",
       "      <th>SYMPTOMVERSION2</th>\n",
       "      <th>SYMPTOM3</th>\n",
       "      <th>SYMPTOMVERSION3</th>\n",
       "      <th>SYMPTOM4</th>\n",
       "      <th>SYMPTOMVERSION4</th>\n",
       "      <th>SYMPTOM5</th>\n",
       "      <th>SYMPTOMVERSION5</th>\n",
       "    </tr>\n",
       "  </thead>\n",
       "  <tbody>\n",
       "    <tr>\n",
       "      <th>0</th>\n",
       "      <td>855017</td>\n",
       "      <td>VARZOS</td>\n",
       "      <td>GLAXOSMITHKLINE BIOLOGICALS</td>\n",
       "      <td>NaN</td>\n",
       "      <td>2</td>\n",
       "      <td>SYR</td>\n",
       "      <td>LA</td>\n",
       "      <td>ZOSTER (SHINGRIX)</td>\n",
       "      <td>01/01/2020</td>\n",
       "      <td>HI</td>\n",
       "      <td>...</td>\n",
       "      <td>Arthralgia</td>\n",
       "      <td>22.1</td>\n",
       "      <td>Chills</td>\n",
       "      <td>22.1</td>\n",
       "      <td>Injection site pain</td>\n",
       "      <td>22.1</td>\n",
       "      <td>Pyrexia</td>\n",
       "      <td>22.1</td>\n",
       "      <td>NaN</td>\n",
       "      <td>NaN</td>\n",
       "    </tr>\n",
       "    <tr>\n",
       "      <th>1</th>\n",
       "      <td>855018</td>\n",
       "      <td>UNK</td>\n",
       "      <td>UNKNOWN MANUFACTURER</td>\n",
       "      <td>NaN</td>\n",
       "      <td>1</td>\n",
       "      <td>IM</td>\n",
       "      <td>RA</td>\n",
       "      <td>VACCINE NOT SPECIFIED (OTHER)</td>\n",
       "      <td>01/01/2020</td>\n",
       "      <td>WI</td>\n",
       "      <td>...</td>\n",
       "      <td>Chills</td>\n",
       "      <td>22.1</td>\n",
       "      <td>Fatigue</td>\n",
       "      <td>22.1</td>\n",
       "      <td>Hypertension</td>\n",
       "      <td>22.1</td>\n",
       "      <td>Hypoaesthesia</td>\n",
       "      <td>22.1</td>\n",
       "      <td>Injected limb mobility decreased</td>\n",
       "      <td>22.1</td>\n",
       "    </tr>\n",
       "    <tr>\n",
       "      <th>2</th>\n",
       "      <td>855018</td>\n",
       "      <td>UNK</td>\n",
       "      <td>UNKNOWN MANUFACTURER</td>\n",
       "      <td>NaN</td>\n",
       "      <td>1</td>\n",
       "      <td>IM</td>\n",
       "      <td>RA</td>\n",
       "      <td>VACCINE NOT SPECIFIED (OTHER)</td>\n",
       "      <td>01/01/2020</td>\n",
       "      <td>WI</td>\n",
       "      <td>...</td>\n",
       "      <td>Muscular weakness</td>\n",
       "      <td>22.1</td>\n",
       "      <td>Pain in extremity</td>\n",
       "      <td>22.1</td>\n",
       "      <td>Pyrexia</td>\n",
       "      <td>22.1</td>\n",
       "      <td>Tremor</td>\n",
       "      <td>22.1</td>\n",
       "      <td>Vertigo</td>\n",
       "      <td>22.1</td>\n",
       "    </tr>\n",
       "    <tr>\n",
       "      <th>3</th>\n",
       "      <td>855019</td>\n",
       "      <td>VARZOS</td>\n",
       "      <td>GLAXOSMITHKLINE BIOLOGICALS</td>\n",
       "      <td>NaN</td>\n",
       "      <td>UNK</td>\n",
       "      <td>NaN</td>\n",
       "      <td>NaN</td>\n",
       "      <td>ZOSTER (SHINGRIX)</td>\n",
       "      <td>01/01/2020</td>\n",
       "      <td>NaN</td>\n",
       "      <td>...</td>\n",
       "      <td>Pain</td>\n",
       "      <td>22.1</td>\n",
       "      <td>Pruritus</td>\n",
       "      <td>22.1</td>\n",
       "      <td>Rash</td>\n",
       "      <td>22.1</td>\n",
       "      <td>NaN</td>\n",
       "      <td>NaN</td>\n",
       "      <td>NaN</td>\n",
       "      <td>NaN</td>\n",
       "    </tr>\n",
       "    <tr>\n",
       "      <th>4</th>\n",
       "      <td>855020</td>\n",
       "      <td>VARZOS</td>\n",
       "      <td>GLAXOSMITHKLINE BIOLOGICALS</td>\n",
       "      <td>NaN</td>\n",
       "      <td>UNK</td>\n",
       "      <td>IM</td>\n",
       "      <td>LA</td>\n",
       "      <td>ZOSTER (SHINGRIX)</td>\n",
       "      <td>01/01/2020</td>\n",
       "      <td>TX</td>\n",
       "      <td>...</td>\n",
       "      <td>Chills</td>\n",
       "      <td>22.1</td>\n",
       "      <td>Influenza like illness</td>\n",
       "      <td>22.1</td>\n",
       "      <td>Myalgia</td>\n",
       "      <td>22.1</td>\n",
       "      <td>Pain in extremity</td>\n",
       "      <td>22.1</td>\n",
       "      <td>Pyrexia</td>\n",
       "      <td>22.1</td>\n",
       "    </tr>\n",
       "  </tbody>\n",
       "</table>\n",
       "<p>5 rows × 52 columns</p>\n",
       "</div>"
      ],
      "text/plain": [
       "   VAERS_ID VAX_TYPE                     VAX_MANU VAX_LOT VAX_DOSE_SERIES  \\\n",
       "0    855017   VARZOS  GLAXOSMITHKLINE BIOLOGICALS     NaN               2   \n",
       "1    855018      UNK         UNKNOWN MANUFACTURER     NaN               1   \n",
       "2    855018      UNK         UNKNOWN MANUFACTURER     NaN               1   \n",
       "3    855019   VARZOS  GLAXOSMITHKLINE BIOLOGICALS     NaN             UNK   \n",
       "4    855020   VARZOS  GLAXOSMITHKLINE BIOLOGICALS     NaN             UNK   \n",
       "\n",
       "  VAX_ROUTE VAX_SITE                       VAX_NAME    RECVDATE STATE  ...  \\\n",
       "0       SYR       LA              ZOSTER (SHINGRIX)  01/01/2020    HI  ...   \n",
       "1        IM       RA  VACCINE NOT SPECIFIED (OTHER)  01/01/2020    WI  ...   \n",
       "2        IM       RA  VACCINE NOT SPECIFIED (OTHER)  01/01/2020    WI  ...   \n",
       "3       NaN      NaN              ZOSTER (SHINGRIX)  01/01/2020   NaN  ...   \n",
       "4        IM       LA              ZOSTER (SHINGRIX)  01/01/2020    TX  ...   \n",
       "\n",
       "            SYMPTOM1  SYMPTOMVERSION1                SYMPTOM2 SYMPTOMVERSION2  \\\n",
       "0         Arthralgia             22.1                  Chills            22.1   \n",
       "1             Chills             22.1                 Fatigue            22.1   \n",
       "2  Muscular weakness             22.1       Pain in extremity            22.1   \n",
       "3               Pain             22.1                Pruritus            22.1   \n",
       "4             Chills             22.1  Influenza like illness            22.1   \n",
       "\n",
       "              SYMPTOM3 SYMPTOMVERSION3           SYMPTOM4 SYMPTOMVERSION4  \\\n",
       "0  Injection site pain            22.1            Pyrexia            22.1   \n",
       "1         Hypertension            22.1      Hypoaesthesia            22.1   \n",
       "2              Pyrexia            22.1             Tremor            22.1   \n",
       "3                 Rash            22.1                NaN             NaN   \n",
       "4              Myalgia            22.1  Pain in extremity            22.1   \n",
       "\n",
       "                           SYMPTOM5 SYMPTOMVERSION5  \n",
       "0                               NaN             NaN  \n",
       "1  Injected limb mobility decreased            22.1  \n",
       "2                           Vertigo            22.1  \n",
       "3                               NaN             NaN  \n",
       "4                           Pyrexia            22.1  \n",
       "\n",
       "[5 rows x 52 columns]"
      ]
     },
     "execution_count": 3,
     "metadata": {},
     "output_type": "execute_result"
    }
   ],
   "source": [
    "# Merge on 'VAERS_ID'\n",
    "temp_merge = pd.merge(vax, data, on='VAERS_ID')\n",
    "data_all = pd.merge(temp_merge, symptoms, on='VAERS_ID')\n",
    "\n",
    "data_all.head()"
   ]
  },
  {
   "cell_type": "markdown",
   "id": "c7bd1e73",
   "metadata": {},
   "source": [
    "### "
   ]
  },
  {
   "cell_type": "markdown",
   "id": "60ad9c11",
   "metadata": {},
   "source": [
    "Now that we have vaccine event information for 2020-2021, we want to filter out just the covid vaccines of interest; there are three approved for use in the US at this time, so VAERS only includes data for those vaccines."
   ]
  },
  {
   "cell_type": "code",
   "execution_count": 4,
   "id": "55faacbb",
   "metadata": {},
   "outputs": [
    {
     "data": {
      "text/plain": [
       "array(['PFIZER\\\\BIONTECH', 'MODERNA', 'JANSSEN'], dtype=object)"
      ]
     },
     "execution_count": 4,
     "metadata": {},
     "output_type": "execute_result"
    }
   ],
   "source": [
    "# Filter for COVID19 vaccines only\n",
    "vax_filter = data_all['VAX_MANU'].str.contains('BIONTECH|MODERNA|JANSSEN')\n",
    "covid = data_all[vax_filter]\n",
    "\n",
    "covid['VAX_MANU'].unique()"
   ]
  },
  {
   "cell_type": "markdown",
   "id": "b575484d",
   "metadata": {},
   "source": [
    "### Column selection\n",
    "\n",
    "We don't want or need to keep all of the columns to fit the model, so let's do some filtering. Based on the VAERS user guide, we selected columns with vaccine information (manufacturer), physical information (age, sex) and symptom columns (symptoms and when they started relative to vaccination)."
   ]
  },
  {
   "cell_type": "code",
   "execution_count": 5,
   "id": "5337eb41",
   "metadata": {},
   "outputs": [
    {
     "data": {
      "text/plain": [
       "Index(['VAERS_ID', 'VAX_TYPE', 'VAX_MANU', 'VAX_LOT', 'VAX_DOSE_SERIES',\n",
       "       'VAX_ROUTE', 'VAX_SITE', 'VAX_NAME', 'RECVDATE', 'STATE', 'AGE_YRS',\n",
       "       'CAGE_YR', 'CAGE_MO', 'SEX', 'RPT_DATE', 'SYMPTOM_TEXT', 'DIED',\n",
       "       'DATEDIED', 'L_THREAT', 'ER_VISIT', 'HOSPITAL', 'HOSPDAYS', 'X_STAY',\n",
       "       'DISABLE', 'RECOVD', 'VAX_DATE', 'ONSET_DATE', 'NUMDAYS', 'LAB_DATA',\n",
       "       'V_ADMINBY', 'V_FUNDBY', 'OTHER_MEDS', 'CUR_ILL', 'HISTORY',\n",
       "       'PRIOR_VAX', 'SPLTTYPE', 'FORM_VERS', 'TODAYS_DATE', 'BIRTH_DEFECT',\n",
       "       'OFC_VISIT', 'ER_ED_VISIT', 'ALLERGIES', 'SYMPTOM1', 'SYMPTOMVERSION1',\n",
       "       'SYMPTOM2', 'SYMPTOMVERSION2', 'SYMPTOM3', 'SYMPTOMVERSION3',\n",
       "       'SYMPTOM4', 'SYMPTOMVERSION4', 'SYMPTOM5', 'SYMPTOMVERSION5'],\n",
       "      dtype='object')"
      ]
     },
     "execution_count": 5,
     "metadata": {},
     "output_type": "execute_result"
    }
   ],
   "source": [
    "# List all of the columns \n",
    "covid.columns"
   ]
  },
  {
   "cell_type": "code",
   "execution_count": 6,
   "id": "f1c4950f",
   "metadata": {},
   "outputs": [],
   "source": [
    "# Columns to keep in the analysis\n",
    "cols_keep = ['VAERS_ID', 'VAX_MANU','AGE_YRS', 'SEX', 'NUMDAYS', \n",
    "             'SYMPTOM1', 'SYMPTOM2', 'SYMPTOM3', 'SYMPTOM4',  'SYMPTOM5']\n",
    "\n",
    "# Filter on selected columns\n",
    "covid_subset = covid[cols_keep].copy()\n"
   ]
  },
  {
   "cell_type": "code",
   "execution_count": 7,
   "id": "0f19da88",
   "metadata": {},
   "outputs": [
    {
     "name": "stdout",
     "output_type": "stream",
     "text": [
      "<class 'pandas.core.frame.DataFrame'>\n",
      "Int64Index: 216580 entries, 54290 to 274153\n",
      "Data columns (total 10 columns):\n",
      " #   Column    Non-Null Count   Dtype  \n",
      "---  ------    --------------   -----  \n",
      " 0   VAERS_ID  216580 non-null  int64  \n",
      " 1   VAX_MANU  216580 non-null  object \n",
      " 2   AGE_YRS   199013 non-null  float64\n",
      " 3   SEX       216580 non-null  object \n",
      " 4   NUMDAYS   196946 non-null  float64\n",
      " 5   SYMPTOM1  216580 non-null  object \n",
      " 6   SYMPTOM2  176412 non-null  object \n",
      " 7   SYMPTOM3  140624 non-null  object \n",
      " 8   SYMPTOM4  107078 non-null  object \n",
      " 9   SYMPTOM5  79405 non-null   object \n",
      "dtypes: float64(2), int64(1), object(7)\n",
      "memory usage: 18.2+ MB\n"
     ]
    }
   ],
   "source": [
    "covid_subset.info()"
   ]
  },
  {
   "cell_type": "markdown",
   "id": "ebbfe2fc",
   "metadata": {},
   "source": [
    "## Clean the data and engineer new features\n",
    "\n",
    "Now, we can continue with the data prep and cleaning and then do some feature engineering. First, we'll go through each feature and clean and determine what type of encoding to use. Then we'll go through and encode in the cleaned DataFrame.\n",
    "\n",
    "**Feature (type, cleaning)**\n",
    "\n",
    "* AGE_YRS (float, need to remove NaN)\n",
    "* SEX (string object, need to binary encode)\n",
    "* NUMDAYS (float, need to remove NaN)\n",
    "* SYMPTOM (cut out less common symptoms, substitute for NaN, engineer features)\n",
    "\n",
    "\n",
    "### Symptoms: cleaning and encoding\n",
    "\n",
    "Let's work on the symptoms columns first!"
   ]
  },
  {
   "cell_type": "code",
   "execution_count": 8,
   "id": "57f31e08",
   "metadata": {},
   "outputs": [
    {
     "name": "stdout",
     "output_type": "stream",
     "text": [
      "SYMPTOM1 0.0\n",
      "SYMPTOM2 0.18546495521285436\n",
      "SYMPTOM3 0.35070643642072213\n",
      "SYMPTOM4 0.5055960845876812\n",
      "SYMPTOM5 0.6333687321082279\n"
     ]
    }
   ],
   "source": [
    "# Count total values for each column\n",
    "symptom_col = ['SYMPTOM1', 'SYMPTOM2', 'SYMPTOM3', 'SYMPTOM4', 'SYMPTOM5']\n",
    "\n",
    "for symptom in symptom_col:\n",
    "    symptom_na = covid_subset[symptom].isna().sum()/len(covid_subset.index)\n",
    "    print(symptom, symptom_na)"
   ]
  },
  {
   "cell_type": "markdown",
   "id": "3e5b2982",
   "metadata": {},
   "source": [
    "It looks like there are a lot of missing values in symptom columns 3-5 so we won't use these columns for now. We'll work with just the first two symptom columns and also create a new column which will be the total number of symptoms reported. \n",
    "\n",
    "We're also going to reduce the total number of symptoms, as we don't really need ones that occur in just a small number of events. First, let's figure out how many unique symptoms we have and then reduce the number."
   ]
  },
  {
   "cell_type": "code",
   "execution_count": 9,
   "id": "6687ccad",
   "metadata": {},
   "outputs": [
    {
     "name": "stdout",
     "output_type": "stream",
     "text": [
      "Symptom 1 value counts:  3867\n",
      "Symptom 2 value counts:  3749\n"
     ]
    }
   ],
   "source": [
    "# Replace SYMPTOM2 column NaN with 'none' ('none' will be a symptom)\n",
    "covid_subset['SYMPTOM2'].fillna('none', inplace=True)\n",
    "\n",
    "# Create a new column with the number of symptoms reported\n",
    "covid_subset = covid_subset.copy()\n",
    "covid_subset['symptom_num'] = covid_subset[symptom_col].count(axis=1)\n",
    "\n",
    "# Drop the no longer needed symptom columns\n",
    "covid_subset.drop(labels=['SYMPTOM3', 'SYMPTOM4', 'SYMPTOM5'], axis=1, inplace=True)\n",
    "\n",
    "# How many unique symptoms do we have?\n",
    "symptom1_list = covid_subset['SYMPTOM1'].value_counts().index.tolist()\n",
    "print('Symptom 1 value counts: ', len(symptom1_list))\n",
    "symptom2_list = covid_subset['SYMPTOM2'].value_counts().index.tolist()\n",
    "print('Symptom 2 value counts: ', len(symptom2_list))"
   ]
  },
  {
   "cell_type": "code",
   "execution_count": 10,
   "id": "78d688a4",
   "metadata": {},
   "outputs": [
    {
     "data": {
      "text/plain": [
       "(149180, 8)"
      ]
     },
     "execution_count": 10,
     "metadata": {},
     "output_type": "execute_result"
    }
   ],
   "source": [
    "# Filter where SYMPTOM1 value counts < n \n",
    "n = 200 # Cut out events where the symptoms occurs in fewer than n people\n",
    "covid_symptom_cut = covid_subset.groupby('SYMPTOM1').filter(lambda x: len(x) > n)\n",
    "covid_symptom_cut = covid_symptom_cut.groupby('SYMPTOM2').filter(lambda x: len(x) > n)\n",
    "covid_symptom_cut.shape"
   ]
  },
  {
   "cell_type": "code",
   "execution_count": 11,
   "id": "bb43f5c0",
   "metadata": {},
   "outputs": [
    {
     "name": "stdout",
     "output_type": "stream",
     "text": [
      "Number of symptom 1:  155\n",
      "Number of symptom 2:  114\n"
     ]
    }
   ],
   "source": [
    "print('Number of symptom 1: ', len(covid_symptom_cut['SYMPTOM1'].unique()))\n",
    "print('Number of symptom 2: ', len(covid_symptom_cut['SYMPTOM2'].unique()))"
   ]
  },
  {
   "cell_type": "markdown",
   "id": "764a1039",
   "metadata": {},
   "source": [
    "That's better - we now have a greatly reduced number of symptoms to encode, which should hopfully improve model performance. But we are possibly cutting out semi-rare symptoms that might be unique to one of the vaccines. Maybe in a furture analysis, we can take a closer look at the symptoms and combination of them.\n",
    "\n",
    "Next we'll use an ordinal encoder for the two symptom columns above. The column we created above (`symptom_num`) is already a numeric value."
   ]
  },
  {
   "cell_type": "code",
   "execution_count": 12,
   "id": "01b4f985",
   "metadata": {},
   "outputs": [
    {
     "data": {
      "text/html": [
       "<div>\n",
       "<style scoped>\n",
       "    .dataframe tbody tr th:only-of-type {\n",
       "        vertical-align: middle;\n",
       "    }\n",
       "\n",
       "    .dataframe tbody tr th {\n",
       "        vertical-align: top;\n",
       "    }\n",
       "\n",
       "    .dataframe thead th {\n",
       "        text-align: right;\n",
       "    }\n",
       "</style>\n",
       "<table border=\"1\" class=\"dataframe\">\n",
       "  <thead>\n",
       "    <tr style=\"text-align: right;\">\n",
       "      <th></th>\n",
       "      <th>SYMPTOM1_code</th>\n",
       "      <th>SYMPTOM1</th>\n",
       "      <th>SYMPTOM2_code</th>\n",
       "      <th>SYMPTOM2</th>\n",
       "    </tr>\n",
       "  </thead>\n",
       "  <tbody>\n",
       "    <tr>\n",
       "      <th>54299</th>\n",
       "      <td>70.0</td>\n",
       "      <td>Headache</td>\n",
       "      <td>113.0</td>\n",
       "      <td>none</td>\n",
       "    </tr>\n",
       "    <tr>\n",
       "      <th>54300</th>\n",
       "      <td>58.0</td>\n",
       "      <td>Erythema</td>\n",
       "      <td>35.0</td>\n",
       "      <td>Feeling hot</td>\n",
       "    </tr>\n",
       "    <tr>\n",
       "      <th>54317</th>\n",
       "      <td>36.0</td>\n",
       "      <td>Chest discomfort</td>\n",
       "      <td>14.0</td>\n",
       "      <td>Chills</td>\n",
       "    </tr>\n",
       "    <tr>\n",
       "      <th>54318</th>\n",
       "      <td>54.0</td>\n",
       "      <td>Dyspnoea</td>\n",
       "      <td>33.0</td>\n",
       "      <td>Feeling abnormal</td>\n",
       "    </tr>\n",
       "    <tr>\n",
       "      <th>54329</th>\n",
       "      <td>37.0</td>\n",
       "      <td>Chest pain</td>\n",
       "      <td>33.0</td>\n",
       "      <td>Feeling abnormal</td>\n",
       "    </tr>\n",
       "  </tbody>\n",
       "</table>\n",
       "</div>"
      ],
      "text/plain": [
       "       SYMPTOM1_code          SYMPTOM1  SYMPTOM2_code          SYMPTOM2\n",
       "54299           70.0          Headache          113.0              none\n",
       "54300           58.0          Erythema           35.0       Feeling hot\n",
       "54317           36.0  Chest discomfort           14.0            Chills\n",
       "54318           54.0          Dyspnoea           33.0  Feeling abnormal\n",
       "54329           37.0        Chest pain           33.0  Feeling abnormal"
      ]
     },
     "execution_count": 12,
     "metadata": {},
     "output_type": "execute_result"
    }
   ],
   "source": [
    "# Import and encode\n",
    "from sklearn.preprocessing import OrdinalEncoder\n",
    "\n",
    "ord_enc = OrdinalEncoder()\n",
    "covid_symptom_cut[[\"SYMPTOM1_code\", \"SYMPTOM2_code\"]] = ord_enc.fit_transform(covid_symptom_cut[[\"SYMPTOM1\", \"SYMPTOM2\"]])\n",
    "covid_symptom_cut[[\"SYMPTOM1_code\", \"SYMPTOM1\", \"SYMPTOM2_code\", \"SYMPTOM2\"]].head()"
   ]
  },
  {
   "cell_type": "markdown",
   "id": "6b007482",
   "metadata": {},
   "source": [
    "### Replace nulls values and encode the rest of the features\n",
    "\n",
    "Now, let's filter out the rest of the rows with missing values and encode the `SEX` column."
   ]
  },
  {
   "cell_type": "code",
   "execution_count": 13,
   "id": "5b4305e0",
   "metadata": {},
   "outputs": [
    {
     "name": "stdout",
     "output_type": "stream",
     "text": [
      "VAERS_ID             0\n",
      "VAX_MANU             0\n",
      "AGE_YRS          12239\n",
      "SEX                  0\n",
      "NUMDAYS          13232\n",
      "SYMPTOM1             0\n",
      "SYMPTOM2             0\n",
      "symptom_num          0\n",
      "SYMPTOM1_code        0\n",
      "SYMPTOM2_code        0\n",
      "dtype: int64\n",
      "Size of the final DataFrame:  (131757, 10)\n"
     ]
    }
   ],
   "source": [
    "# Print out the number of null values\n",
    "print(covid_symptom_cut.isna().sum())\n",
    "\n",
    "# Drop the nulls\n",
    "covid_symptom_cut.dropna(inplace=True)\n",
    "\n",
    "print('Size of the final DataFrame: ', covid_symptom_cut.shape)"
   ]
  },
  {
   "cell_type": "code",
   "execution_count": 14,
   "id": "7380a208",
   "metadata": {},
   "outputs": [],
   "source": [
    "# Encode the 'SEX' column\n",
    "covid_symptom_cut[\"SEX\"] = ord_enc.fit_transform(covid_symptom_cut[[\"SEX\"]])"
   ]
  },
  {
   "cell_type": "markdown",
   "id": "bb328973",
   "metadata": {},
   "source": [
    "## Create feature matrix and target array\n",
    "\n",
    "With our cleaned and encoded DataFrame, we can now create the feature matrix and target array (which we will encode after creating the array)."
   ]
  },
  {
   "cell_type": "code",
   "execution_count": 15,
   "id": "fb40fb3c",
   "metadata": {},
   "outputs": [],
   "source": [
    "# Create feature matrix\n",
    "\n",
    "feature_cols = ['AGE_YRS', 'SEX','NUMDAYS', \n",
    "                'SYMPTOM1_code', 'SYMPTOM2_code', 'symptom_num']\n",
    "\n",
    "features = covid_symptom_cut[feature_cols]"
   ]
  },
  {
   "cell_type": "code",
   "execution_count": 16,
   "id": "2127dda9",
   "metadata": {},
   "outputs": [
    {
     "name": "stdout",
     "output_type": "stream",
     "text": [
      "MODERNA            0.468597\n",
      "PFIZER\\BIONTECH    0.363222\n",
      "JANSSEN            0.168181\n",
      "Name: VAX_MANU, dtype: float64\n"
     ]
    }
   ],
   "source": [
    "# Select target (which vaccine?)\n",
    "print(covid_symptom_cut['VAX_MANU'].value_counts(normalize=True))\n",
    "target = covid_symptom_cut['VAX_MANU']\n",
    "\n",
    "# Label encode the target array\n",
    "from sklearn import preprocessing\n",
    "le = preprocessing.LabelEncoder()\n",
    "target_code = le.fit_transform(target)"
   ]
  },
  {
   "cell_type": "markdown",
   "id": "9e4abd8c",
   "metadata": {},
   "source": [
    "**Target array labels:** (from manual check)\n",
    "\n",
    "* Pfizer = 2\n",
    "* Moderna = 1\n",
    "* Janssen = 0"
   ]
  },
  {
   "cell_type": "markdown",
   "id": "6acf1595",
   "metadata": {},
   "source": [
    "## Fit a classifier\n",
    "\n",
    "Finally, we can fit a model to predict vaccine type from our feature set. We'll fit a classification model where the baseline we are trying to beat is the occurrence of the most common class. In this case, Moderna occurrs 47% of the time in our target array.\n",
    "\n",
    "**Baseline accuracy: 47%**\n",
    "\n",
    "We'll first fit a random forrest classifier and look at the accuracy and feature importances. Then we can implement hyperparameter tuning to see if we can improve on the model."
   ]
  },
  {
   "cell_type": "code",
   "execution_count": 17,
   "id": "c1473bfa",
   "metadata": {},
   "outputs": [],
   "source": [
    "# Model fitting imports\n",
    "from sklearn.model_selection import train_test_split\n",
    "from sklearn.metrics import accuracy_score\n",
    "from sklearn.ensemble import RandomForestClassifier\n",
    "from sklearn.model_selection import RandomizedSearchCV"
   ]
  },
  {
   "cell_type": "code",
   "execution_count": 18,
   "id": "efff046c",
   "metadata": {},
   "outputs": [
    {
     "name": "stdout",
     "output_type": "stream",
     "text": [
      "<class 'pandas.core.frame.DataFrame'>\n",
      "Int64Index: 98817 entries, 74054 to 246294\n",
      "Data columns (total 6 columns):\n",
      " #   Column         Non-Null Count  Dtype  \n",
      "---  ------         --------------  -----  \n",
      " 0   AGE_YRS        98817 non-null  float64\n",
      " 1   SEX            98817 non-null  float64\n",
      " 2   NUMDAYS        98817 non-null  float64\n",
      " 3   SYMPTOM1_code  98817 non-null  float64\n",
      " 4   SYMPTOM2_code  98817 non-null  float64\n",
      " 5   symptom_num    98817 non-null  int64  \n",
      "dtypes: float64(5), int64(1)\n",
      "memory usage: 5.3 MB\n"
     ]
    }
   ],
   "source": [
    "# Train-test split\n",
    "x_train, x_test, y_train, y_test = train_test_split(\n",
    "    features, target_code, test_size=0.25, random_state=42)\n",
    "\n",
    "x_train.info()"
   ]
  },
  {
   "cell_type": "code",
   "execution_count": 19,
   "id": "cb1471c3",
   "metadata": {},
   "outputs": [
    {
     "name": "stdout",
     "output_type": "stream",
     "text": [
      "AGE_YRS 0.20713956755010982\n",
      "SEX 0.04222080414012435\n",
      "NUMDAYS 0.28136487557348716\n",
      "SYMPTOM1_code 0.27136922310804623\n",
      "SYMPTOM2_code 0.1659079045700477\n",
      "symptom_num 0.031997625058184674\n"
     ]
    },
    {
     "data": {
      "image/png": "[encoded data removed]",
      "text/plain": [
       "<Figure size 432x288 with 1 Axes>"
      ]
     },
     "metadata": {
      "needs_background": "light"
     },
     "output_type": "display_data"
    }
   ],
   "source": [
    "# Define the model\n",
    "model_rf = RandomForestClassifier(n_estimators=150, max_depth=10, max_features=None, random_state=42)\n",
    "# Fit the model\n",
    "model_rf.fit(x_train, y_train)\n",
    "# Get importance\n",
    "importance = model_rf.feature_importances_\n",
    "# Summarize feature importance\n",
    "for name, importance in zip(features.columns, model_rf.feature_importances_):\n",
    "    print(name, importance)\n",
    "# Plot feature importance\n",
    "plt.bar([x for x in range(len(features.columns))], model_rf.feature_importances_)\n",
    "plt.show()"
   ]
  },
  {
   "cell_type": "code",
   "execution_count": 20,
   "id": "5d5f8249",
   "metadata": {},
   "outputs": [
    {
     "name": "stdout",
     "output_type": "stream",
     "text": [
      "Accuracy: 51.49\n"
     ]
    }
   ],
   "source": [
    "# evaluate the model\n",
    "yhat = model_rf.predict(x_test)\n",
    "# evaluate predictions\n",
    "accuracy = accuracy_score(y_test, yhat)\n",
    "print('Accuracy: %.2f' % (accuracy*100))"
   ]
  },
  {
   "cell_type": "markdown",
   "id": "7e385b7b",
   "metadata": {},
   "source": [
    "We trained a simply random forest classifier and achieved an accuracy of about 51%, which is a small improvement over the baseline. \n",
    "\n",
    "When we examine the feature importance plot, we can see that the number of days after vaccination (`NUMDAYS`) and the first symptom listed (`SYMPTOM1_code`) are the two features which most impact the model. The age of the individual is also important but this could be partly a result of the vaccine administration schedule: one vaccine may have been available to older individuals earlier than the other vaccines."
   ]
  },
  {
   "cell_type": "markdown",
   "id": "ba76e790",
   "metadata": {},
   "source": [
    "### Implement a grid search for the best hyperparameters\n",
    "\n",
    "While we have a decent model that improves on the baseeline accuracy, let's see if tuning the hyperparameters and doing a randomized search can improve the accuracy a little bit more."
   ]
  },
  {
   "cell_type": "code",
   "execution_count": 21,
   "id": "4abceb54",
   "metadata": {},
   "outputs": [],
   "source": [
    "# Create the random grid\n",
    "\n",
    "n_estimators = [5, 10, 25, 50, 75, 100, 150, 200]\n",
    "max_features = ['auto', None, 'log2']\n",
    "max_depth = [int(x) for x in np.linspace(10, 110, num = 11)]\n",
    "min_samples_split = [2, 5, 10]\n",
    "min_samples_leaf = [1, 2, 4]\n",
    "bootstrap = [True, False]\n",
    "\n",
    "random_grid = {'n_estimators': n_estimators,\n",
    "               'max_features': max_features,\n",
    "               'max_depth': max_depth,\n",
    "               'min_samples_split': min_samples_split,\n",
    "               'min_samples_leaf': min_samples_leaf,\n",
    "               'bootstrap': bootstrap}"
   ]
  },
  {
   "cell_type": "code",
   "execution_count": 22,
   "id": "1d8a4b1e",
   "metadata": {},
   "outputs": [],
   "source": [
    "# Instantiate and define the classifier parameters\n",
    "rf = RandomForestClassifier()\n",
    "\n",
    "rf_random = RandomizedSearchCV(estimator = rf, \n",
    "                               param_distributions = random_grid, \n",
    "                               n_iter = 100, \n",
    "                               cv = 3, \n",
    "                               verbose=2, \n",
    "                               random_state=42, \n",
    "                               n_jobs = -1)"
   ]
  },
  {
   "cell_type": "code",
   "execution_count": 23,
   "id": "96ad4a3b",
   "metadata": {},
   "outputs": [
    {
     "name": "stdout",
     "output_type": "stream",
     "text": [
      "Fitting 3 folds for each of 100 candidates, totalling 300 fits\n"
     ]
    },
    {
     "data": {
      "text/plain": [
       "RandomizedSearchCV(cv=3, estimator=RandomForestClassifier(), n_iter=100,\n",
       "                   n_jobs=-1,\n",
       "                   param_distributions={'bootstrap': [True, False],\n",
       "                                        'max_depth': [10, 20, 30, 40, 50, 60,\n",
       "                                                      70, 80, 90, 100, 110],\n",
       "                                        'max_features': ['auto', None, 'log2'],\n",
       "                                        'min_samples_leaf': [1, 2, 4],\n",
       "                                        'min_samples_split': [2, 5, 10],\n",
       "                                        'n_estimators': [5, 10, 25, 50, 75, 100,\n",
       "                                                         150, 200]},\n",
       "                   random_state=42, verbose=2)"
      ]
     },
     "execution_count": 23,
     "metadata": {},
     "output_type": "execute_result"
    }
   ],
   "source": [
    "# Fit the random search model\n",
    "rf_random.fit(x_train, y_train)"
   ]
  },
  {
   "cell_type": "code",
   "execution_count": 24,
   "id": "9440d101",
   "metadata": {},
   "outputs": [
    {
     "data": {
      "text/plain": [
       "{'n_estimators': 200,\n",
       " 'min_samples_split': 10,\n",
       " 'min_samples_leaf': 4,\n",
       " 'max_features': 'auto',\n",
       " 'max_depth': 20,\n",
       " 'bootstrap': True}"
      ]
     },
     "execution_count": 24,
     "metadata": {},
     "output_type": "execute_result"
    }
   ],
   "source": [
    "# Print out the best parameters\n",
    "rf_random.best_params_"
   ]
  },
  {
   "cell_type": "code",
   "execution_count": 25,
   "id": "b75e0be3",
   "metadata": {},
   "outputs": [
    {
     "name": "stdout",
     "output_type": "stream",
     "text": [
      "Accuracy: 52.13\n"
     ]
    }
   ],
   "source": [
    "# evaluate the model\n",
    "yhat = rf_random.predict(x_test)\n",
    "# evaluate predictions\n",
    "accuracy = accuracy_score(y_test, yhat)\n",
    "print('Accuracy: %.2f' % (accuracy*100))"
   ]
  },
  {
   "cell_type": "markdown",
   "id": "a8271081",
   "metadata": {},
   "source": [
    "Well, hyperparameter tuning didn't really improve the accuracy of the model. But it was a good exercise in setting up the randomized grid search.\n",
    "\n",
    "Let's also look at the feature importances."
   ]
  },
  {
   "cell_type": "code",
   "execution_count": 26,
   "id": "122bc43e",
   "metadata": {},
   "outputs": [
    {
     "name": "stdout",
     "output_type": "stream",
     "text": [
      "AGE_YRS 0.28949826182381444\n",
      "SEX 0.023860311328050783\n",
      "NUMDAYS 0.1539901564335703\n",
      "SYMPTOM1_code 0.2659621478961505\n",
      "SYMPTOM2_code 0.22180034846668875\n",
      "symptom_num 0.04488877405172516\n"
     ]
    },
    {
     "data": {
      "image/png": "[encoded data removed]",
      "text/plain": [
       "<Figure size 432x288 with 1 Axes>"
      ]
     },
     "metadata": {
      "needs_background": "light"
     },
     "output_type": "display_data"
    }
   ],
   "source": [
    "# Summarize feature importance\n",
    "importances = rf_random.best_estimator_.feature_importances_\n",
    "for name, importance in zip(features.columns, importances):\n",
    "    print(name, importance)\n",
    "# Plot feature importance\n",
    "plt.bar([x for x in range(len(features.columns))], importances)\n",
    "plt.show()"
   ]
  },
  {
   "cell_type": "markdown",
   "id": "31edd6bf",
   "metadata": {},
   "source": [
    "The age (`AGE_YRS`) is now the feature with the highest importance, followed by the first symptom (`SYMPTOM1_code`).\n",
    "\n",
    "We'll save the model and then make a prediction. The symptom codes were obtained by finding the value counts for the top 15 symptoms and then creating a dictionary to match the symptom name to the encoded value. The codes and symptoms are formatted here (words in parentheses are additional explanation).\n",
    "\n",
    "\n",
    "|**Code 1**| **Symptom 1**|**Code 2**|**Symptom 2**|\n",
    "|----|:--------------|-----------|:-----------|\n",
    "|38 | Chills |    113| none|\n",
    "|10 | Arthralgia (joint pain) |39| Headache|\n",
    "|50 | Dizziness | 32| Fatigue|\n",
    "|86 | Injection site erythema| 14| Chills|\n",
    "|63 | Fatigue| 24| Dizziness|\n",
    "|70 | Headache| 78| Pain|\n",
    "|127| Pyrexia (fever)| 88| Pyrexia (fever)|\n",
    "|11 | Asthenia (weakness)| 53| Injection site pain|\n",
    "|115| Pain| 74| Nausea|\n",
    "|58 | Erythema (skin redness)| 79| Pain in extremity|\n",
    "|111| Nausea| 54| Injection site pruritus|\n",
    "|116| Pain in extremity| 28| Dyspnoea (shortness of breath)|\n",
    "|88 | Injection site pain| 72| Myalgia (muscle pain)|\n",
    "|128| Rash| 87| Pruritus (itchy skin)|\n",
    "|126| Pruritus (itchy skin)| 89| Rash|"
   ]
  },
  {
   "cell_type": "markdown",
   "id": "b49ae376",
   "metadata": {},
   "source": [
    "Let's make a prediction! Here I entered my symptoms (which I did not report to VAERS). You can only choose one value for when your symptoms occur - I selected the most significant symptom (Rash) and that this symptom occurred seven days after vaccination."
   ]
  },
  {
   "cell_type": "code",
   "execution_count": 27,
   "id": "a7e90c0a",
   "metadata": {},
   "outputs": [
    {
     "name": "stdout",
     "output_type": "stream",
     "text": [
      "The probability of J&J:  0.04284145734822302\n",
      "The probability of Moderna:  0.8401083997594558\n",
      "The probability of Pfizer:  0.11705014289232177\n"
     ]
    }
   ],
   "source": [
    "# Make a prediction\n",
    "symptom_input =([[43, 0, 7, 128, 113, 1]])\n",
    "probabilities = rf_random.predict_proba(symptom_input)\n",
    "\n",
    "print('The probability of J&J: ', probabilities[0][0])\n",
    "print('The probability of Moderna: ', probabilities[0][1])\n",
    "print('The probability of Pfizer: ', probabilities[0][2])"
   ]
  },
  {
   "cell_type": "markdown",
   "id": "dd2416d0",
   "metadata": {},
   "source": [
    "The model predicts that I would have received Moderna and in this case, that is correct. But, remembering from the baseline accuracy, we have a 47% chance of being correct by guessing Moderna.\n",
    "\n",
    "In order to use the pre-trained model in our FastAPI application, we'll use `joblib` to save it."
   ]
  },
  {
   "cell_type": "code",
   "execution_count": 29,
   "id": "dff1bcde",
   "metadata": {},
   "outputs": [
    {
     "data": {
      "text/plain": [
       "['trained_model_24may.joblib']"
      ]
     },
     "execution_count": 29,
     "metadata": {},
     "output_type": "execute_result"
    }
   ],
   "source": [
    "# Save the model \n",
    "from joblib import dump\n",
    "dump(rf_random, 'trained_model_24may.joblib', compress=3)"
   ]
  }
 ],
 "metadata": {
  "kernelspec": {
   "display_name": "Python 3",
   "language": "python",
   "name": "python3"
  },
  "language_info": {
   "codemirror_mode": {
    "name": "ipython",
    "version": 3
   },
   "file_extension": ".py",
   "mimetype": "text/x-python",
   "name": "python",
   "nbconvert_exporter": "python",
   "pygments_lexer": "ipython3",
   "version": "3.8.10"
  }
 },
 "nbformat": 4,
 "nbformat_minor": 5
}

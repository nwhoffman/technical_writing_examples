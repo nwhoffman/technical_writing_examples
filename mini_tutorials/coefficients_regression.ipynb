{
 "cells": [
  {
   "cell_type": "markdown",
   "metadata": {},
   "source": [
    "## Overview\n",
    "\n",
    "In the previous objective, we briefly introduced the concept of a linear regression and the coefficients returned by the model. We missed one important part of the process: plotting our results! Let's do that now. \n",
    "\n",
    "### Linear Regression Coefficients\n",
    "\n",
    "Remember that we are fitting a line to two variables: an independent variable (x axis) and the dependent variable (y axis).The form of the equation of this line is given by \n",
    "\n",
    "<script src=\"https://i.upmath.me/latex.js\"></script>\n",
    "<p>$$y = \\beta_0 + \\beta_1x$$</p>\n",
    "<p>When we fit a line, we’re trying to find the coefficients $\\beta_0$ and $\\beta_1$. The parameter $\\beta_0$ is the intercept (when $x$=0, the intercept is the $y$ value) and $\\beta_1$ is the slope. The scikit-learn estimator process determines the values for $\\beta_0$ and $\\beta_1$ that describe a line that best &quot;fits&quot; the data. How the model actually calculates the best fit is something that we will cover in the upcoming modules.</p>\n",
    "\n",
    "\n",
    "In the following example, we'll fit the same data set as in the previous objective (using the scikit-learn estimator) and then plot the results of our model."
   ]
  },
  {
   "cell_type": "markdown",
   "metadata": {},
   "source": [
    "## Follow Along\n",
    "\n",
    "Using the steps outlined in the previous objective, we'll load our data and fit a linear regression."
   ]
  },
  {
   "cell_type": "code",
   "execution_count": 1,
   "metadata": {},
   "outputs": [],
   "source": [
    "# Import pandas and seaborn\n",
    "import pandas as pd\n",
    "import numpy as np\n",
    "import seaborn as sns\n",
    "\n",
    "# Load the data into a DataFrame\n",
    "penguins = sns.load_dataset(\"penguins\")\n",
    "\n",
    "# Drop NaNs\n",
    "penguins.dropna(inplace=True)"
   ]
  },
  {
   "cell_type": "code",
   "execution_count": 2,
   "metadata": {},
   "outputs": [],
   "source": [
    "# Create the 2-D features matrix\n",
    "X_penguins = penguins['flipper_length_mm']\n",
    "X_penguins_2D = X_penguins[:, np.newaxis]\n",
    "\n",
    "# Create the target array\n",
    "y_penguins = penguins['body_mass_g']"
   ]
  },
  {
   "cell_type": "code",
   "execution_count": 3,
   "metadata": {},
   "outputs": [
    {
     "data": {
      "text/plain": [
       "LinearRegression()"
      ]
     },
     "execution_count": 3,
     "metadata": {},
     "output_type": "execute_result"
    }
   ],
   "source": [
    "# Import the estimator class\n",
    "from sklearn.linear_model import LinearRegression\n",
    "\n",
    "# Instantiate the class (with default parameters)\n",
    "model = LinearRegression()\n",
    "\n",
    "# Dispay the model parameters\n",
    "model"
   ]
  },
  {
   "cell_type": "code",
   "execution_count": 4,
   "metadata": {},
   "outputs": [
    {
     "name": "stdout",
     "output_type": "stream",
     "text": [
      "Original features matrix:  (333,)\n",
      "(333, 1)\n"
     ]
    }
   ],
   "source": [
    "# Display the shape of X_penguins\n",
    "print('Original features matrix: ', X_penguins.shape)\n",
    "\n",
    "# Add a new axis to create a column vector\n",
    "X_penguins_2D = X_penguins[:, np.newaxis]\n",
    "print(X_penguins_2D.shape)"
   ]
  },
  {
   "cell_type": "code",
   "execution_count": 5,
   "metadata": {},
   "outputs": [
    {
     "data": {
      "text/plain": [
       "LinearRegression()"
      ]
     },
     "execution_count": 5,
     "metadata": {},
     "output_type": "execute_result"
    }
   ],
   "source": [
    "# Fit the model\n",
    "model.fit(X_penguins_2D, y_penguins)"
   ]
  },
  {
   "cell_type": "markdown",
   "metadata": {},
   "source": [
    "#### Look at the coefficients\n",
    "\n",
    "As reviewed above, the coefficients describe the slope and intercept. We access these coefficients with the following methods:"
   ]
  },
  {
   "cell_type": "code",
   "execution_count": 6,
   "metadata": {},
   "outputs": [
    {
     "name": "stdout",
     "output_type": "stream",
     "text": [
      "[50.15326594]\n",
      "-5872.092682842825\n",
      "\n",
      "body_mass_g = 50.15326594224113 x flipper_length_mm + (-5872.092682842825)\n"
     ]
    }
   ],
   "source": [
    "# Slope (also called the model coefficient)\n",
    "print(model.coef_)\n",
    "\n",
    "# Intercept\n",
    "print(model.intercept_)\n",
    "\n",
    "# In equation form\n",
    "print(f'\\nbody_mass_g = {model.coef_[0]} x flipper_length_mm + ({model.intercept_})')"
   ]
  },
  {
   "cell_type": "markdown",
   "metadata": {},
   "source": [
    "We now have coefficients of a line! Let's plot this line along with our data. Even though we used seaborn earlier, we'll keep this plot simple and stick to using the basic matplotlib tools. First, we need to generate the line so there is something to plot."
   ]
  },
  {
   "cell_type": "code",
   "execution_count": 7,
   "metadata": {},
   "outputs": [],
   "source": [
    "# Generate the line from the model coefficients\n",
    "x_line = np.linspace(170,240)\n",
    "y_line = model.coef_*x_line + model.intercept_"
   ]
  },
  {
   "cell_type": "code",
   "execution_count": 8,
   "metadata": {},
   "outputs": [
    {
     "data": {
      "text/plain": [
       "<Figure size 432x288 with 0 Axes>"
      ]
     },
     "metadata": {},
     "output_type": "display_data"
    }
   ],
   "source": [
    "# Import plotting libraries\n",
    "import matplotlib.pyplot as plt\n",
    "\n",
    "# Create the figure and axes objects\n",
    "fig, ax = plt.subplots(1)\n",
    "ax.scatter(x = X_penguins, y = y_penguins, label=\"Observed data\")\n",
    "ax.plot(x_line, y_line, color='g', label=\"linear regression model\")\n",
    "ax.set_xlabel('Penguin flipper length (mm)')\n",
    "ax.set_ylabel('Penguin weight (g)')\n",
    "ax.legend()\n",
    "\n",
    "#plt.show()\n",
    "plt.clf() "
   ]
  },
  {
   "cell_type": "markdown",
   "metadata": {},
   "source": [
    "![mod1_obj3_penguin_reg_sklearn](https://raw.githubusercontent.com/LambdaSchool/data-science-canvas-images/main/unit_2/sprint_1/mod1_obj3_penguin_reg_sklearn.png)\n",
    "\n",
    "## Challenge\n",
    "\n",
    "In the original data set, there are other physical measurements on the penguins that we can perform a linear regression on and then plot the resulting best-fit line.\n",
    "\n",
    "Follow these suggested steps:\n",
    "\n",
    "* Load the data set and remove the NaN values.\n",
    "* Choose two variables to explore and plot them to check the relationship visually.\n",
    "* Create the feature matrix and target array.\n",
    "* Import the `LinearRegression()` class and instantiate the model.\n",
    "* Fit the model and then print out the coefficients\n",
    "* Plot the model fit along with the data set; does it look like a nice fit to the data?"
   ]
  },
  {
   "cell_type": "markdown",
   "metadata": {},
   "source": [
    "## Additional Resources\n",
    "\n",
    "* [Glossary of Common Terms and API Elements](https://scikit-learn.org/stable/glossary.html#general-concepts)\n",
    "* [sklearn.linear_model.LinearRegression](https://scikit-learn.org/stable/modules/generated/sklearn.linear_model.LinearRegression.html?highlight=linear%20regression#sklearn.linear_model.LinearRegression)"
   ]
  }
 ],
 "metadata": {
  "kernelspec": {
   "display_name": "Python 3",
   "language": "python",
   "name": "python3"
  },
  "language_info": {
   "codemirror_mode": {
    "name": "ipython",
    "version": 3
   },
   "file_extension": ".py",
   "mimetype": "text/x-python",
   "name": "python",
   "nbconvert_exporter": "python",
   "pygments_lexer": "ipython3",
   "version": "3.7.4"
  }
 },
 "nbformat": 4,
 "nbformat_minor": 4
}

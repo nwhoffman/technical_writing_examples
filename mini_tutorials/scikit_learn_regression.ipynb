{
 "cells": [
  {
   "cell_type": "markdown",
   "metadata": {},
   "source": [
    "## Overview\n",
    "\n",
    "In the previous objectives, we used `seaborn` to fit a simple linear regression to a dataset containing penguin weight and flipper lengths. In the example, we compared our baseline (the ratio of weight to flipper length) to the actual best-line fit in the plot.\n",
    "\n",
    "Throughout this unit we're going to be using the tools available in the scikit-learn library. Most likely, you've already come across this library and even used some of the tools, either in Unit 1 or during your own learning.\n",
    "\n",
    "Right now, we're going to work through an example using scikit-learn to fit a linear regression model, using the same dataset from the previous objective. While some of this material may be review, it's still important to go through each of the steps, both for practice and to address concepts that we might have missed.\n",
    "\n",
    "### Linear Regression\n",
    "\n",
    "Before we get into how to use scikit-learn to fit a model, we'll do a quick review of linear regression and the associated coefficients. A linear regression fits data to a line where the equation of the line is given by \n",
    "\n",
    "<script src=\"https://i.upmath.me/latex.js\"></script>\n",
    "<p>$$y = \\beta_0 + \\beta_1x$$</p>\n",
    "<p>When we fit a line, we’re trying to find the coefficients $\\beta_0$ and $\\beta_1$. The parameter $\\beta_0$ is the intercept (when $x$=0, the intercept is the $y$ value) and $\\beta_1$ is the slope. The results of the model fit will return the slope and intercept.</p>\n",
    "\n",
    "In the next objective, we'll focus more on the meaning of the coefficients. Right now, the goal is to learn how to use the scikit-learn tool to fit a simple model."
   ]
  },
  {
   "cell_type": "markdown",
   "metadata": {},
   "source": [
    "## Follow Along\n",
    "\n",
    "The following steps show the same process you will follow with the scikit-learn API (application programming interface; how we interact with the many tools in the scikit-learn predictor) to fit many different types of models. The model type, model complexity, data type, and size of the data set don't affect the following steps:\n",
    "\n",
    "### Scikit-learn API\n",
    "\n",
    "* Load the data set and \"clean: if needed (not specifically part of scikit-learn but important to do first\n",
    "* Create features and target(s) from the data\n",
    "* Import the model and instantiate the class\n",
    "* Fit the model\n",
    "* Apply your model; use the model to predict new values\n",
    "\n",
    "In the above process, the data loading, cleaning, and preparing for modeling can be done all at once before any of the other steps. Or creating features and target(s) can be completed right before you fit the model; the important point is to have the data in the correct form *before* fitting.\n",
    "\n",
    "### Load Data\n",
    "\n",
    "As in the previous objective, we'll use the penguin data set available from the `seaborn` library. When we import `seaborn`, all of the associated datasets are included; we don't need to download any other data or load files from our local system.\n",
    "\n",
    "We also need to make sure we remove any NaN values now; the model-fitting algorithm requires that we input clean data or data that is free of missing values."
   ]
  },
  {
   "cell_type": "code",
   "execution_count": 1,
   "metadata": {},
   "outputs": [
    {
     "name": "stdout",
     "output_type": "stream",
     "text": [
      "Shape of the dataset (before removing NaNs):  (344, 7)\n",
      "Shape of the dataset (after removing NaNs):  (333, 7)\n"
     ]
    },
    {
     "data": {
      "text/html": [
       "<div>\n",
       "<style scoped>\n",
       "    .dataframe tbody tr th:only-of-type {\n",
       "        vertical-align: middle;\n",
       "    }\n",
       "\n",
       "    .dataframe tbody tr th {\n",
       "        vertical-align: top;\n",
       "    }\n",
       "\n",
       "    .dataframe thead th {\n",
       "        text-align: right;\n",
       "    }\n",
       "</style>\n",
       "<table border=\"1\" class=\"dataframe\">\n",
       "  <thead>\n",
       "    <tr style=\"text-align: right;\">\n",
       "      <th></th>\n",
       "      <th>species</th>\n",
       "      <th>island</th>\n",
       "      <th>bill_length_mm</th>\n",
       "      <th>bill_depth_mm</th>\n",
       "      <th>flipper_length_mm</th>\n",
       "      <th>body_mass_g</th>\n",
       "      <th>sex</th>\n",
       "    </tr>\n",
       "  </thead>\n",
       "  <tbody>\n",
       "    <tr>\n",
       "      <th>0</th>\n",
       "      <td>Adelie</td>\n",
       "      <td>Torgersen</td>\n",
       "      <td>39.1</td>\n",
       "      <td>18.7</td>\n",
       "      <td>181.0</td>\n",
       "      <td>3750.0</td>\n",
       "      <td>Male</td>\n",
       "    </tr>\n",
       "    <tr>\n",
       "      <th>1</th>\n",
       "      <td>Adelie</td>\n",
       "      <td>Torgersen</td>\n",
       "      <td>39.5</td>\n",
       "      <td>17.4</td>\n",
       "      <td>186.0</td>\n",
       "      <td>3800.0</td>\n",
       "      <td>Female</td>\n",
       "    </tr>\n",
       "    <tr>\n",
       "      <th>2</th>\n",
       "      <td>Adelie</td>\n",
       "      <td>Torgersen</td>\n",
       "      <td>40.3</td>\n",
       "      <td>18.0</td>\n",
       "      <td>195.0</td>\n",
       "      <td>3250.0</td>\n",
       "      <td>Female</td>\n",
       "    </tr>\n",
       "    <tr>\n",
       "      <th>4</th>\n",
       "      <td>Adelie</td>\n",
       "      <td>Torgersen</td>\n",
       "      <td>36.7</td>\n",
       "      <td>19.3</td>\n",
       "      <td>193.0</td>\n",
       "      <td>3450.0</td>\n",
       "      <td>Female</td>\n",
       "    </tr>\n",
       "    <tr>\n",
       "      <th>5</th>\n",
       "      <td>Adelie</td>\n",
       "      <td>Torgersen</td>\n",
       "      <td>39.3</td>\n",
       "      <td>20.6</td>\n",
       "      <td>190.0</td>\n",
       "      <td>3650.0</td>\n",
       "      <td>Male</td>\n",
       "    </tr>\n",
       "  </tbody>\n",
       "</table>\n",
       "</div>"
      ],
      "text/plain": [
       "  species     island  bill_length_mm  bill_depth_mm  flipper_length_mm  \\\n",
       "0  Adelie  Torgersen            39.1           18.7              181.0   \n",
       "1  Adelie  Torgersen            39.5           17.4              186.0   \n",
       "2  Adelie  Torgersen            40.3           18.0              195.0   \n",
       "4  Adelie  Torgersen            36.7           19.3              193.0   \n",
       "5  Adelie  Torgersen            39.3           20.6              190.0   \n",
       "\n",
       "   body_mass_g     sex  \n",
       "0       3750.0    Male  \n",
       "1       3800.0  Female  \n",
       "2       3250.0  Female  \n",
       "4       3450.0  Female  \n",
       "5       3650.0    Male  "
      ]
     },
     "metadata": {},
     "output_type": "display_data"
    }
   ],
   "source": [
    "# Import pandas and seaborn\n",
    "import pandas as pd\n",
    "import numpy as np\n",
    "import seaborn as sns\n",
    "\n",
    "# Load the data into a DataFrame\n",
    "penguins = sns.load_dataset(\"penguins\")\n",
    "\n",
    "# Print the shape of the DataFrame\n",
    "print('Shape of the dataset (before removing NaNs): ', penguins.shape)\n",
    "\n",
    "# Drop NaNs\n",
    "penguins.dropna(inplace=True)\n",
    "\n",
    "# Print the shape of the DataFrame\n",
    "print('Shape of the dataset (after removing NaNs): ', penguins.shape)\n",
    "\n",
    "# Display the first five rows\n",
    "display(penguins.head())"
   ]
  },
  {
   "cell_type": "markdown",
   "metadata": {},
   "source": [
    "### Representing Data\n",
    "\n",
    "In the previous unit, we discussed the tidy data format and how organizing out data this way makes it easier to clean and format it for machine learning. Now we get to see the benefit of having data in this format as we prepare to use it with scikit-learn.\n",
    "\n",
    "In the above table, we have 333 rows of data (after filtering), where each row is an observation of a single penguin. The rows are sometimes called samples; think of each row as a sample of observations about a penguin. We also have seven columns that correspond to the information that describes each sample. Here, we are describing the species, home island, and physical characters of our samples (penguins). Features are often numeric (`body_mass_g`, `flipper_length_mm`) but not always; the `species`, `island`, and `sex` columns are all described by string variables.\n",
    "\n",
    "### Feature Matrix and Target Array\n",
    "\n",
    "Before we can input our data into a scikit-learn model, we have to separate it into a *feature matrix* and *target array*. First, we need to decide what we're trying to predict from this dataset.\n",
    "\n",
    "We've already fit a simple linear regression model to the `flipper_length_mm` and `body_mass_g` variables, so we'll continue with those two variables. We want to use the flipper length to predict the weight of the penguin. The terminology we use is as follows: our feature (flipper length) will be used to predict the target (weight).\n",
    "\n",
    "For this simple linear regression example, we are only predicting one target variable; the target is an array with a length equal to the number of rows in the feature matrix.\n",
    "\n",
    "![features](https://raw.githubusercontent.com/LambdaSchool/data-science-canvas-images/main/unit_2/sprint_1/mod1_obj2_features.gif)\n",
    "\n",
    "In the following code, we'll create our feature matrix and target array. It's customary to use a capital `X` for the features and a lowercase `y` for the target array. We'll add the name `penguins` to our variable names to make it easier to remember the data we are fitting."
   ]
  },
  {
   "cell_type": "code",
   "execution_count": 2,
   "metadata": {},
   "outputs": [
    {
     "name": "stdout",
     "output_type": "stream",
     "text": [
      "The shape of the feature matrix:  (333,)\n",
      "The shape of the target array:  (333,)\n"
     ]
    }
   ],
   "source": [
    "# Create the feature matrix\n",
    "X_penguins = penguins['flipper_length_mm']\n",
    "print(\"The shape of the feature matrix: \", X_penguins.shape)\n",
    "\n",
    "# Create the target array\n",
    "y_penguins = penguins['body_mass_g']\n",
    "print(\"The shape of the target array: \", y_penguins.shape)"
   ]
  },
  {
   "cell_type": "markdown",
   "metadata": {},
   "source": [
    "We can see that these are both one-dimensional arrays of 333 elements, which is what we expected. Our data is now ready to be input in a scikit-learn model.\n",
    "\n",
    "### Scikit-learn Predictor\n",
    "\n",
    "The scikit-learn predictor is the object that learns from the data. There is a standard process to follow to use the predictor object. Our example will be for a linear regression, but we can apply these steps to any of the scikit-learn predictors (classification, regression, and clustering).\n",
    "\n",
    "#### 1. Import the model class\n",
    "\n",
    "We already know we're trying to fit a linear model to our data, so we'll use a regression algorithm.\n",
    "\n",
    "`from sklearn.linear_model import LinearRegression`\n",
    "\n",
    "#### 2. Instantiate the class\n",
    "\n",
    "The term *instantiate* is a fancy way to say you are creating an instance of a class. We imported the predictor class but that's it; we need to create an instance of that class to actually do anything. With this step, we also determine the *hyperparameters* or model parameters we would like to use.\n",
    "\n",
    "To create an instance of `LinearRegression()` predictor, we use the following code:"
   ]
  },
  {
   "cell_type": "code",
   "execution_count": 3,
   "metadata": {},
   "outputs": [
    {
     "data": {
      "text/plain": [
       "LinearRegression()"
      ]
     },
     "execution_count": 3,
     "metadata": {},
     "output_type": "execute_result"
    }
   ],
   "source": [
    "# Import the predictor class\n",
    "from sklearn.linear_model import LinearRegression\n",
    "\n",
    "# Instantiate the class (with default parameters)\n",
    "model = LinearRegression()\n",
    "\n",
    "# Dispay the model parameters\n",
    "model"
   ]
  },
  {
   "cell_type": "markdown",
   "metadata": {},
   "source": [
    "The `LinearRegression()` predictor has four parameters that we can set. For now, let's use the default setting but you can read more about the parameters [here](https://scikit-learn.org/stable/modules/generated/sklearn.linear_model.LinearRegression.html?highlight=linear%20regression#sklearn.linear_model.LinearRegression)."
   ]
  },
  {
   "cell_type": "markdown",
   "metadata": {},
   "source": [
    "#### Arrange data\n",
    "\n",
    "Part of this step was already completed above but all predictors require the feature matrix to be in the form of a two-dimensional matrix. We can do a re-shaping of the one-dimensional array by adding a new axis with the `np.newaxis` function."
   ]
  },
  {
   "cell_type": "code",
   "execution_count": 4,
   "metadata": {},
   "outputs": [
    {
     "name": "stdout",
     "output_type": "stream",
     "text": [
      "Original features matrix:  (333,)\n",
      "(333, 1)\n"
     ]
    }
   ],
   "source": [
    "# Display the shape of X_penguins\n",
    "print('Original features matrix: ', X_penguins.shape)\n",
    "\n",
    "# Add a new axis to create a column vector\n",
    "X_penguins_2D = X_penguins[:, np.newaxis]\n",
    "print(X_penguins_2D.shape)"
   ]
  },
  {
   "cell_type": "markdown",
   "metadata": {},
   "source": [
    "Our feature matrix is now a two-dimensional array and we can move to the next step.\n",
    "\n",
    "#### Fit the model\n",
    "\n",
    "We have a model predictor imported, the class instantiated, and our data in the correct format. The next step is to fit our model! Using the `fit()` method associated with the model, the model results will be stored in model-specific attributes."
   ]
  },
  {
   "cell_type": "code",
   "execution_count": 5,
   "metadata": {},
   "outputs": [
    {
     "data": {
      "text/plain": [
       "LinearRegression()"
      ]
     },
     "execution_count": 5,
     "metadata": {},
     "output_type": "execute_result"
    }
   ],
   "source": [
    "# Fit the model\n",
    "model.fit(X_penguins_2D, y_penguins)"
   ]
  },
  {
   "cell_type": "markdown",
   "metadata": {},
   "source": [
    "#### Look at the coefficients\n",
    "\n",
    "As reviewed above, the coefficients describe the slope and intercept. We access these coefficients with the following methods:"
   ]
  },
  {
   "cell_type": "code",
   "execution_count": 6,
   "metadata": {},
   "outputs": [
    {
     "name": "stdout",
     "output_type": "stream",
     "text": [
      "[50.15326594]\n",
      "-5872.092682842825\n",
      "\n",
      "body_mass_g = 50.15326594224113 x flipper_length_mm + (-5872.092682842825)\n"
     ]
    }
   ],
   "source": [
    "# Slope (also called the model coefficient)\n",
    "print(model.coef_)\n",
    "\n",
    "# Intercept\n",
    "print(model.intercept_)\n",
    "\n",
    "# In equation form\n",
    "print(f'\\nbody_mass_g = {model.coef_[0]} x flipper_length_mm + ({model.intercept_})')"
   ]
  },
  {
   "cell_type": "markdown",
   "metadata": {},
   "source": [
    "## Challenge\n",
    "\n",
    "In the original data set, there are other physical measurements on the penguins that we can perform a linear regression on. The bill length and depth measure the characteristics of a penguin's beak. Using two of these other measurements, fit a linear regression model to see how much these two variables might display a linear relationship.\n",
    "\n",
    "Follow these suggested steps:\n",
    "\n",
    "* Load the data set and remove the NaN values.\n",
    "* Choose two variables to explore and plot them to check the relationship visually.\n",
    "* Create the feature matrix and target array.\n",
    "* Import the LinearRegression class and instantiate the model.\n",
    "* Fit the model and then print out the coefficients"
   ]
  },
  {
   "cell_type": "markdown",
   "metadata": {},
   "source": [
    "## Additional Resources\n",
    "\n",
    "* [Glossary of Common Terms and API Elements](https://scikit-learn.org/stable/glossary.html#general-concepts)\n",
    "* [sklearn.linear_model.LinearRegression](https://scikit-learn.org/stable/modules/generated/sklearn.linear_model.LinearRegression.html?highlight=linear%20regression#sklearn.linear_model.LinearRegression)"
   ]
  }
 ],
 "metadata": {
  "kernelspec": {
   "display_name": "Python 3",
   "language": "python",
   "name": "python3"
  },
  "language_info": {
   "codemirror_mode": {
    "name": "ipython",
    "version": 3
   },
   "file_extension": ".py",
   "mimetype": "text/x-python",
   "name": "python",
   "nbconvert_exporter": "python",
   "pygments_lexer": "ipython3",
   "version": "3.7.4"
  }
 },
 "nbformat": 4,
 "nbformat_minor": 4
}
